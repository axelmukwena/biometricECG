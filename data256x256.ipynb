{
 "cells": [
  {
   "cell_type": "code",
   "execution_count": 6,
   "metadata": {
    "colab": {
     "base_uri": "https://localhost:8080/"
    },
    "executionInfo": {
     "elapsed": 23901,
     "status": "ok",
     "timestamp": 1609616378556,
     "user": {
      "displayName": "Axel Mukwena",
      "photoUrl": "https://lh3.googleusercontent.com/a-/AOh14GjkBUMeSLjKE8qwDBLKGkDOZkIiuxwvNO8t-yPMcPM=s64",
      "userId": "13593993050630757383"
     },
     "user_tz": -480
    },
    "id": "YbK1ayV9mWRn",
    "outputId": "3dd83527-1dde-4e27-f25a-c27a709e6c57"
   },
   "outputs": [
    {
     "name": "stdout",
     "output_type": "stream",
     "text": [
      "Mounted at /content/drive\n"
     ]
    }
   ],
   "source": [
    "from google.colab import drive\n",
    "drive.mount('/content/drive')"
   ]
  },
  {
   "cell_type": "code",
   "execution_count": 15,
   "metadata": {
    "colab": {
     "base_uri": "https://localhost:8080/"
    },
    "executionInfo": {
     "elapsed": 1148,
     "status": "ok",
     "timestamp": 1609616660803,
     "user": {
      "displayName": "Axel Mukwena",
      "photoUrl": "https://lh3.googleusercontent.com/a-/AOh14GjkBUMeSLjKE8qwDBLKGkDOZkIiuxwvNO8t-yPMcPM=s64",
      "userId": "13593993050630757383"
     },
     "user_tz": -480
    },
    "id": "ASZ3y80NnOJO",
    "outputId": "a965cf49-60dc-48cd-d2fb-c8e1ce2536c3"
   },
   "outputs": [
    {
     "name": "stdout",
     "output_type": "stream",
     "text": [
      "data.pickle  ecg.ipynb\n"
     ]
    }
   ],
   "source": [
    "import os\n",
    "os.chdir(\"/content/drive/MyDrive/offline/projects/ml/Colab Notebooks/\")\n",
    "!ls"
   ]
  },
  {
   "cell_type": "code",
   "execution_count": 16,
   "metadata": {
    "executionInfo": {
     "elapsed": 1153,
     "status": "ok",
     "timestamp": 1609616681178,
     "user": {
      "displayName": "Axel Mukwena",
      "photoUrl": "https://lh3.googleusercontent.com/a-/AOh14GjkBUMeSLjKE8qwDBLKGkDOZkIiuxwvNO8t-yPMcPM=s64",
      "userId": "13593993050630757383"
     },
     "user_tz": -480
    },
    "id": "288w1DQmoVkf"
   },
   "outputs": [],
   "source": [
    "from sklearn.model_selection import train_test_split\n",
    "from tensorflow.keras.layers import Conv2D, MaxPooling2D\n",
    "from tensorflow.keras.layers import Dense, Flatten\n",
    "from tensorflow.keras.models import Sequential\n",
    "import tensorflow as tf\n",
    "import numpy as np\n",
    "import pickle\n",
    "\n",
    "np.random.seed(123)"
   ]
  },
  {
   "cell_type": "code",
   "execution_count": 17,
   "metadata": {
    "executionInfo": {
     "elapsed": 2723,
     "status": "ok",
     "timestamp": 1609616706488,
     "user": {
      "displayName": "Axel Mukwena",
      "photoUrl": "https://lh3.googleusercontent.com/a-/AOh14GjkBUMeSLjKE8qwDBLKGkDOZkIiuxwvNO8t-yPMcPM=s64",
      "userId": "13593993050630757383"
     },
     "user_tz": -480
    },
    "id": "6P_DfBecobS1"
   },
   "outputs": [],
   "source": [
    "# load dataset\n",
    "pickleIn = open('data.pickle', 'rb')\n",
    "categories, y, x = pickle.load(pickleIn)\n",
    "\n",
    "# split data\n",
    "train, validation, test = 0.7, 0.15, 0.15\n",
    "\n",
    "# train 70% since test is 30%\n",
    "x_train, x_test, y_train, y_test = train_test_split(\n",
    "    x, y, test_size=1 - train, shuffle=True, random_state=42)\n",
    "\n",
    "# test 15%, validation 15%\n",
    "x_val, x_test, y_val, y_test = train_test_split(\n",
    "    x_test, y_test, test_size=test / (test + validation), random_state=3)"
   ]
  },
  {
   "cell_type": "code",
   "execution_count": 20,
   "metadata": {
    "colab": {
     "base_uri": "https://localhost:8080/"
    },
    "executionInfo": {
     "elapsed": 6397,
     "status": "ok",
     "timestamp": 1609650847854,
     "user": {
      "displayName": "Axel Mukwena",
      "photoUrl": "https://lh3.googleusercontent.com/a-/AOh14GjkBUMeSLjKE8qwDBLKGkDOZkIiuxwvNO8t-yPMcPM=s64",
      "userId": "13593993050630757383"
     },
     "user_tz": -480
    },
    "id": "CRp1PIawoevG",
    "outputId": "9e5fba21-430a-46db-ddc5-88a21b101a5d"
   },
   "outputs": [
    {
     "name": "stdout",
     "output_type": "stream",
     "text": [
      "Min: 0.009350057679251183 Max: 0.0957802636816024\n"
     ]
    }
   ],
   "source": [
    "# normalize data\n",
    "x_train = tf.keras.utils.normalize(x_train, axis=1)\n",
    "x_val = tf.keras.utils.normalize(x_val, axis=1)\n",
    "x_test = tf.keras.utils.normalize(x_test, axis=1)\n",
    "print('Min:', x_train.min(), 'Max:', x_train.max())"
   ]
  },
  {
   "cell_type": "code",
   "execution_count": 19,
   "metadata": {
    "colab": {
     "base_uri": "https://localhost:8080/"
    },
    "executionInfo": {
     "elapsed": 9174138,
     "status": "ok",
     "timestamp": 1609625931510,
     "user": {
      "displayName": "Axel Mukwena",
      "photoUrl": "https://lh3.googleusercontent.com/a-/AOh14GjkBUMeSLjKE8qwDBLKGkDOZkIiuxwvNO8t-yPMcPM=s64",
      "userId": "13593993050630757383"
     },
     "user_tz": -480
    },
    "id": "Zyp-BDoJojoh",
    "outputId": "1914ddb6-9ce7-44a4-cb46-74d0ae33879f"
   },
   "outputs": [
    {
     "name": "stdout",
     "output_type": "stream",
     "text": [
      "Epoch 1/5\n",
      "49/49 [==============================] - 1814s 37s/step - loss: 2.4698 - accuracy: 0.0906 - val_loss: 2.3036 - val_accuracy: 0.1310\n",
      "Epoch 2/5\n",
      "49/49 [==============================] - 1799s 37s/step - loss: 2.2732 - accuracy: 0.1698 - val_loss: 1.3836 - val_accuracy: 0.5744\n",
      "Epoch 3/5\n",
      "49/49 [==============================] - 1796s 37s/step - loss: 0.9339 - accuracy: 0.7108 - val_loss: 0.5287 - val_accuracy: 0.8244\n",
      "Epoch 4/5\n",
      "49/49 [==============================] - 1799s 37s/step - loss: 0.3704 - accuracy: 0.8803 - val_loss: 0.3128 - val_accuracy: 0.9077\n",
      "Epoch 5/5\n",
      "49/49 [==============================] - 1855s 38s/step - loss: 0.1916 - accuracy: 0.9494 - val_loss: 0.2934 - val_accuracy: 0.9048\n",
      "11/11 [==============================] - 109s 10s/step - loss: 0.2934 - accuracy: 0.9048\n",
      "Loss: 0.29339736700057983 Acc: 0.9047619104385376\n"
     ]
    }
   ],
   "source": [
    "# building the model\n",
    "model = Sequential()\n",
    "\n",
    "model.add(Conv2D(256, (3, 3), activation='relu', input_shape=x_train.shape[1:]))\n",
    "model.add(MaxPooling2D(pool_size=(2, 2)))\n",
    "\n",
    "model.add(Conv2D(256, (3, 3), activation='relu'))\n",
    "model.add(MaxPooling2D(pool_size=(2, 2)))\n",
    "\n",
    "model.add(Flatten())\n",
    "model.add(Dense(64, activation='relu'))\n",
    "model.add(Dense(11, activation='softmax'))\n",
    "\n",
    "# training the model\n",
    "model.compile(loss='sparse_categorical_crossentropy', optimizer='adam', metrics=['accuracy'])\n",
    "\n",
    "# fitting the model\n",
    "model.fit(x_train, y_train, batch_size=32, epochs=5,\n",
    "          verbose=1, validation_data=(x_val, y_val),)\n",
    "\n",
    "val_loss, val_acc = model.evaluate(x_val, y_val)\n",
    "print('Loss:', val_loss, 'Acc:', val_acc)\n"
   ]
  }
 ],
 "metadata": {
  "colab": {
   "authorship_tag": "ABX9TyOE9oEBlDnMpuZ+TAdqt6hT",
   "name": "ecg.ipynb",
   "provenance": []
  },
  "kernelspec": {
   "display_name": "Python 3",
   "language": "python",
   "name": "python3"
  },
  "language_info": {
   "codemirror_mode": {
    "name": "ipython",
    "version": 3
   },
   "file_extension": ".py",
   "mimetype": "text/x-python",
   "name": "python",
   "nbconvert_exporter": "python",
   "pygments_lexer": "ipython3",
   "version": "3.9.2"
  }
 },
 "nbformat": 4,
 "nbformat_minor": 1
}
